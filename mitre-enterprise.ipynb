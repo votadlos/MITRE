{
 "cells": [
  {
   "cell_type": "code",
   "execution_count": 41,
   "metadata": {},
   "outputs": [
    {
     "name": "stdout",
     "output_type": "stream",
     "text": [
      "The autoreload extension is already loaded. To reload it, use:\n",
      "  %reload_ext autoreload\n"
     ]
    }
   ],
   "source": [
    "%load_ext autoreload\n",
    "%autoreload 2\n",
    "import urllib3, json, certifi\n",
    "import HTMLx\n",
    "from IPython.display import HTML, display\n",
    "from operator import itemgetter "
   ]
  },
  {
   "cell_type": "code",
   "execution_count": 42,
   "metadata": {},
   "outputs": [],
   "source": [
    "MITREFILE = \"enterprise-attack.json\"\n",
    "MITREURL = \"https://raw.githubusercontent.com/mitre/cti/master/enterprise-attack/enterprise-attack.json\""
   ]
  },
  {
   "cell_type": "code",
   "execution_count": 43,
   "metadata": {},
   "outputs": [],
   "source": [
    "http = urllib3.PoolManager(cert_reqs='CERT_REQUIRED',ca_certs=certifi.where())\n",
    "chunk_size = 1024\n",
    "r = http.request('GET', MITREURL, preload_content=False)\n",
    "\n",
    "with open(MITREFILE, 'wb') as out:\n",
    "    while True:\n",
    "        data = r.read(chunk_size)\n",
    "        if not data:\n",
    "            break\n",
    "        out.write(data)\n",
    "\n",
    "r.release_conn()"
   ]
  },
  {
   "cell_type": "code",
   "execution_count": 44,
   "metadata": {},
   "outputs": [],
   "source": [
    "with open(MITREFILE) as f:\n",
    "    m = json.load(f)"
   ]
  },
  {
   "cell_type": "code",
   "execution_count": 45,
   "metadata": {},
   "outputs": [
    {
     "name": "stdout",
     "output_type": "stream",
     "text": [
      "4548\n"
     ]
    }
   ],
   "source": [
    "print( len(m[\"objects\"]))"
   ]
  },
  {
   "cell_type": "markdown",
   "metadata": {},
   "source": [
    "# Number of objects of different type"
   ]
  },
  {
   "cell_type": "code",
   "execution_count": 46,
   "metadata": {},
   "outputs": [
    {
     "data": {
      "text/html": [
       "<TABLE BORDER=\"1\"><TR><TH ALIGN=\"CENTER\"></TH></TR></TR><TR><TD>attack-pattern</TD><TD>223</TD></TR><TR><TD>relationship-mitigates</TD><TD>222</TD></TR><TR><TD>relationship-uses</TD><TD>3500</TD></TR><TR><TD>relationship-revoked-by</TD><TD>3</TD></TR><TR><TD>course-of-action</TD><TD>222</TD></TR><TR><TD>identity</TD><TD>1</TD></TR><TR><TD>intrusion-set</TD><TD>80</TD></TR><TR><TD>malware</TD><TD>237</TD></TR><TR><TD>tool</TD><TD>47</TD></TR><TR><TD>x-mitre-matrix</TD><TD>1</TD></TR><TR><TD>x-mitre-tactic</TD><TD>11</TD></TR><TR><TD>marking-definition</TD><TD>1</TD></TR></TABLE>"
      ],
      "text/plain": [
       "<IPython.core.display.HTML object>"
      ]
     },
     "metadata": {},
     "output_type": "display_data"
    }
   ],
   "source": [
    "res = dict()\n",
    "for o in m[\"objects\"]:\n",
    "    #t = o[\"id\"][0:o[\"id\"].find(\"--\")]\n",
    "    t = o[\"type\"]\n",
    "    if t == \"relationship\":\n",
    "        t += \"-\"+o[\"relationship_type\"]\n",
    "    res[t] = res.get(t,0) + 1\n",
    "\n",
    "display(HTML(HTMLx.html_table([],list(map(lambda x: [x, res[x]],res.keys())))))\n"
   ]
  },
  {
   "cell_type": "code",
   "execution_count": 51,
   "metadata": {},
   "outputs": [
    {
     "data": {
      "text/html": [
       "<H1>Windows</H1>"
      ],
      "text/plain": [
       "<IPython.core.display.HTML object>"
      ]
     },
     "metadata": {},
     "output_type": "display_data"
    }
   ],
   "source": [
    "platform = \"Windows\"\n",
    "display(HTML(\"<H1>{}</H1>\".format(platform)))"
   ]
  },
  {
   "cell_type": "markdown",
   "metadata": {},
   "source": [
    "## APT actors uses Techniques"
   ]
  },
  {
   "cell_type": "code",
   "execution_count": 48,
   "metadata": {},
   "outputs": [
    {
     "data": {
      "text/html": [
       "<TABLE BORDER=\"1\"><TR><TH ALIGN=\"CENTER\">techique</TH ALIGN=\"CENTER\"><TH>intrusion-set</TH ALIGN=\"CENTER\"><TH>malware</TH ALIGN=\"CENTER\"><TH>tool</TH ALIGN=\"CENTER\"><TH>data_sources</TH></TR></TR><TR><TD>T1064: Scripting</TD><TD>31</TD><TD>19</TD><TD>3</TD><TD>Process monitoring<BR>File monitoring<BR>Process command-line parameters</TD></TR><TR><TD>T1003: Credential Dumping</TD><TD>27</TD><TD>21</TD><TD>13</TD><TD>API monitoring<BR>Process monitoring<BR>PowerShell logs<BR>Process command-line parameters</TD></TR><TR><TD>T1204: User Execution</TD><TD>26</TD><TD>1</TD><TD>0</TD><TD>Anti-virus<BR>Process command-line parameters<BR>Process monitoring</TD></TR><TR><TD>T1027: Obfuscated Files or Information</TD><TD>24</TD><TD>62</TD><TD>2</TD><TD>Network protocol analysis<BR>Process use of network<BR>File monitoring<BR>Malware reverse engineering<BR>Binary file metadata<BR>Process command-line parameters<BR>Environment variable<BR>Process monitoring<BR>Windows event logs<BR>Network intrusion detection system<BR>Email gateway<BR>SSL/TLS inspection</TD></TR><TR><TD>T1059: Command-Line Interface</TD><TD>23</TD><TD>85</TD><TD>4</TD><TD>Process monitoring<BR>Process command-line parameters</TD></TR><TR><TD>T1105: Remote File Copy</TD><TD>23</TD><TD>97</TD><TD>6</TD><TD>File monitoring<BR>Packet capture<BR>Process use of network<BR>Netflow/Enclave netflow<BR>Network protocol analysis<BR>Process monitoring</TD></TR><TR><TD>T1193: Spearphishing Attachment</TD><TD>23</TD><TD>0</TD><TD>0</TD><TD>File monitoring<BR>Packet capture<BR>Network intrusion detection system<BR>Detonation chamber<BR>Email gateway<BR>Mail server</TD></TR><TR><TD>T1071: Standard Application Layer Protocol</TD><TD>21</TD><TD>104</TD><TD>2</TD><TD>Packet capture<BR>Netflow/Enclave netflow<BR>Process use of network<BR>Malware reverse engineering<BR>Process monitoring</TD></TR><TR><TD>T1107: File Deletion</TD><TD>18</TD><TD>64</TD><TD>2</TD><TD>File monitoring<BR>Process command-line parameters<BR>Binary file metadata</TD></TR><TR><TD>T1078: Valid Accounts</TD><TD>18</TD><TD>4</TD><TD>1</TD><TD>Authentication logs<BR>Process monitoring</TD></TR><TR><TD>T1002: Data Compressed</TD><TD>15</TD><TD>14</TD><TD>1</TD><TD>Binary file metadata<BR>File monitoring<BR>Process command-line parameters<BR>Process monitoring</TD></TR><TR><TD>T1083: File and Directory Discovery</TD><TD>15</TD><TD>81</TD><TD>3</TD><TD>File monitoring<BR>Process monitoring<BR>Process command-line parameters</TD></TR><TR><TD>T1082: System Information Discovery</TD><TD>15</TD><TD>99</TD><TD>4</TD><TD>Process monitoring<BR>Process command-line parameters</TD></TR><TR><TD>T1005: Data from Local System</TD><TD>14</TD><TD>20</TD><TD>4</TD><TD>File monitoring<BR>Process monitoring<BR>Process command-line parameters</TD></TR><TR><TD>T1057: Process Discovery</TD><TD>14</TD><TD>66</TD><TD>4</TD><TD>Process monitoring<BR>Process command-line parameters</TD></TR><TR><TD>T1016: System Network Configuration Discovery</TD><TD>13</TD><TD>57</TD><TD>7</TD><TD>Process monitoring<BR>Process command-line parameters</TD></TR><TR><TD>T1074: Data Staged</TD><TD>12</TD><TD>22</TD><TD>0</TD><TD>File monitoring<BR>Process monitoring<BR>Process command-line parameters</TD></TR><TR><TD>T1189: Drive-by Compromise</TD><TD>12</TD><TD>2</TD><TD>0</TD><TD>Packet capture<BR>Network device logs<BR>Process use of network<BR>Web proxy<BR>Network intrusion detection system<BR>SSL/TLS inspection</TD></TR><TR><TD>T1018: Remote System Discovery</TD><TD>12</TD><TD>10</TD><TD>3</TD><TD>Network protocol analysis<BR>Process monitoring<BR>Process use of network<BR>Process command-line parameters</TD></TR><TR><TD>T1192: Spearphishing Link</TD><TD>12</TD><TD>0</TD><TD>0</TD><TD>Packet capture<BR>Web proxy<BR>Email gateway<BR>Detonation chamber<BR>SSL/TLS inspection<BR>DNS records<BR>Mail server</TD></TR><TR><TD>T1033: System Owner/User Discovery</TD><TD>12</TD><TD>45</TD><TD>2</TD><TD>File monitoring<BR>Process monitoring<BR>Process command-line parameters</TD></TR><TR><TD>T1056: Input Capture</TD><TD>11</TD><TD>44</TD><TD>4</TD><TD>Windows Registry<BR>Kernel drivers<BR>Process monitoring<BR>API monitoring</TD></TR><TR><TD>T1036: Masquerading</TD><TD>11</TD><TD>33</TD><TD>1</TD><TD>File monitoring<BR>Process monitoring<BR>Binary file metadata</TD></TR><TR><TD>T1087: Account Discovery</TD><TD>10</TD><TD>19</TD><TD>4</TD><TD>API monitoring<BR>Process monitoring<BR>Process command-line parameters</TD></TR><TR><TD>T1043: Commonly Used Port</TD><TD>9</TD><TD>40</TD><TD>2</TD><TD>Packet capture<BR>Netflow/Enclave netflow<BR>Process use of network<BR>Process monitoring</TD></TR><TR><TD>T1203: Exploitation for Client Execution</TD><TD>9</TD><TD>2</TD><TD>0</TD><TD>Anti-virus<BR>System calls<BR>Process monitoring</TD></TR><TR><TD>T1055: Process Injection</TD><TD>9</TD><TD>28</TD><TD>4</TD><TD>API monitoring<BR>Windows Registry<BR>File monitoring<BR>DLL monitoring<BR>Process monitoring<BR>Named Pipes</TD></TR><TR><TD>T1102: Web Service</TD><TD>9</TD><TD>20</TD><TD>0</TD><TD>Host network interface<BR>Netflow/Enclave netflow<BR>Network protocol analysis<BR>Packet capture<BR>SSL/TLS inspection</TD></TR><TR><TD>T1022: Data Encrypted</TD><TD>8</TD><TD>18</TD><TD>0</TD><TD>File monitoring<BR>Process monitoring<BR>Process command-line parameters<BR>Binary file metadata</TD></TR><TR><TD>T1113: Screen Capture</TD><TD>8</TD><TD>50</TD><TD>3</TD><TD>API monitoring<BR>Process monitoring<BR>File monitoring</TD></TR><TR><TD>T1032: Standard Cryptographic Protocol</TD><TD>8</TD><TD>37</TD><TD>3</TD><TD>Packet capture<BR>Netflow/Enclave netflow<BR>Malware reverse engineering<BR>Process use of network<BR>Process monitoring<BR>SSL/TLS inspection</TD></TR><TR><TD>T1049: System Network Connections Discovery</TD><TD>8</TD><TD>13</TD><TD>4</TD><TD>Process monitoring<BR>Process command-line parameters</TD></TR><TR><TD>T1068: Exploitation for Privilege Escalation</TD><TD>7</TD><TD>4</TD><TD>1</TD><TD>Windows Error Reporting<BR>Process monitoring<BR>Application logs</TD></TR><TR><TD>T1046: Network Service Scanning</TD><TD>7</TD><TD>5</TD><TD>3</TD><TD>Netflow/Enclave netflow<BR>Network protocol analysis<BR>Packet capture<BR>Process command-line parameters<BR>Process use of network</TD></TR><TR><TD>T1119: Automated Collection</TD><TD>6</TD><TD>11</TD><TD>0</TD><TD>File monitoring<BR>Data loss prevention<BR>Process command-line parameters</TD></TR><TR><TD>T1110: Brute Force</TD><TD>6</TD><TD>2</TD><TD>0</TD><TD>Authentication logs</TD></TR><TR><TD>T1089: Disabling Security Tools</TD><TD>6</TD><TD>20</TD><TD>1</TD><TD>API monitoring<BR>File monitoring<BR>Services<BR>Windows Registry<BR>Process command-line parameters<BR>Anti-virus</TD></TR><TR><TD>T1070: Indicator Removal on Host</TD><TD>6</TD><TD>12</TD><TD>1</TD><TD>File monitoring<BR>Process monitoring<BR>Process command-line parameters<BR>API monitoring<BR>Windows event logs</TD></TR><TR><TD>T1108: Redundant Access</TD><TD>6</TD><TD>1</TD><TD>0</TD><TD>Process monitoring<BR>Process use of network<BR>Packet capture<BR>Network protocol analysis<BR>File monitoring<BR>Authentication logs<BR>Binary file metadata</TD></TR><TR><TD>T1009: Binary Padding</TD><TD>5</TD><TD>8</TD><TD>0</TD><TD>Binary file metadata<BR>File monitoring<BR>Malware reverse engineering</TD></TR><TR><TD>T1090: Connection Proxy</TD><TD>5</TD><TD>15</TD><TD>4</TD><TD>Process use of network<BR>Process monitoring<BR>Netflow/Enclave netflow<BR>Packet capture</TD></TR><TR><TD>T1041: Exfiltration Over Command and Control Channel</TD><TD>5</TD><TD>11</TD><TD>1</TD><TD>User interface<BR>Process monitoring</TD></TR><TR><TD>T1066: Indicator Removal from Tools</TD><TD>5</TD><TD>2</TD><TD>2</TD><TD>Process use of network<BR>Process monitoring<BR>Process command-line parameters<BR>Anti-virus<BR>Binary file metadata</TD></TR><TR><TD>T1069: Permission Groups Discovery</TD><TD>5</TD><TD>9</TD><TD>2</TD><TD>API monitoring<BR>Process monitoring<BR>Process command-line parameters</TD></TR><TR><TD>T1065: Uncommonly Used Port</TD><TD>5</TD><TD>11</TD><TD>0</TD><TD>Netflow/Enclave netflow<BR>Process use of network<BR>Process monitoring</TD></TR><TR><TD>T1094: Custom Command and Control Protocol</TD><TD>4</TD><TD>26</TD><TD>1</TD><TD>Packet capture<BR>Netflow/Enclave netflow<BR>Process use of network<BR>Process monitoring<BR>Host network interface<BR>Network intrusion detection system<BR>Network protocol analysis</TD></TR><TR><TD>T1132: Data Encoding</TD><TD>4</TD><TD>22</TD><TD>0</TD><TD>Packet capture<BR>Process use of network<BR>Process monitoring<BR>Network protocol analysis</TD></TR><TR><TD>T1048: Exfiltration Over Alternative Protocol</TD><TD>4</TD><TD>5</TD><TD>2</TD><TD>User interface<BR>Process monitoring<BR>Process use of network<BR>Packet capture<BR>Netflow/Enclave netflow<BR>Network protocol analysis</TD></TR><TR><TD>T1100: Web Shell</TD><TD>4</TD><TD>4</TD><TD>0</TD><TD>Anti-virus<BR>Authentication logs<BR>File monitoring<BR>Netflow/Enclave netflow<BR>Process monitoring</TD></TR><TR><TD>T1136: Create Account</TD><TD>3</TD><TD>5</TD><TD>2</TD><TD>Process monitoring<BR>Process command-line parameters<BR>Authentication logs<BR>Windows event logs</TD></TR><TR><TD>T1039: Data from Network Shared Drive</TD><TD>3</TD><TD>2</TD><TD>0</TD><TD>File monitoring<BR>Process monitoring<BR>Process command-line parameters</TD></TR><TR><TD>T1219: Remote Access Tools</TD><TD>3</TD><TD>1</TD><TD>0</TD><TD>Network intrusion detection system<BR>Network protocol analysis<BR>Process use of network<BR>Process monitoring</TD></TR><TR><TD>T1021: Remote Services</TD><TD>3</TD><TD>1</TD><TD>1</TD><TD>Authentication logs</TD></TR><TR><TD>T1099: Timestomp</TD><TD>3</TD><TD>14</TD><TD>1</TD><TD>File monitoring<BR>Process monitoring<BR>Process command-line parameters</TD></TR><TR><TD>T1067: Bootkit</TD><TD>2</TD><TD>3</TD><TD>0</TD><TD>API monitoring<BR>MBR<BR>VBR</TD></TR><TR><TD>T1024: Custom Cryptographic Protocol</TD><TD>2</TD><TD>32</TD><TD>0</TD><TD>Packet capture<BR>Netflow/Enclave netflow<BR>Process use of network<BR>Malware reverse engineering<BR>Process monitoring</TD></TR><TR><TD>T1001: Data Obfuscation</TD><TD>2</TD><TD>15</TD><TD>0</TD><TD>Packet capture<BR>Process use of network<BR>Process monitoring<BR>Network protocol analysis</TD></TR><TR><TD>T1213: Data from Information Repositories</TD><TD>2</TD><TD>0</TD><TD>1</TD><TD>Application logs<BR>Authentication logs<BR>Data loss prevention<BR>Third-party application logs</TD></TR><TR><TD>T1025: Data from Removable Media</TD><TD>2</TD><TD>9</TD><TD>0</TD><TD>File monitoring<BR>Process monitoring<BR>Process command-line parameters</TD></TR><TR><TD>T1008: Fallback Channels</TD><TD>2</TD><TD>17</TD><TD>0</TD><TD>Malware reverse engineering<BR>Netflow/Enclave netflow<BR>Packet capture<BR>Process monitoring<BR>Process use of network</TD></TR><TR><TD>T1158: Hidden Files and Directories</TD><TD>2</TD><TD>5</TD><TD>0</TD><TD>File monitoring<BR>Process monitoring<BR>Process command-line parameters</TD></TR><TR><TD>T1194: Spearphishing via Service</TD><TD>2</TD><TD>0</TD><TD>0</TD><TD>SSL/TLS inspection<BR>Anti-virus<BR>Web proxy</TD></TR><TR><TD>T1095: Standard Non-Application Layer Protocol</TD><TD>2</TD><TD>13</TD><TD>0</TD><TD>Host network interface<BR>Netflow/Enclave netflow<BR>Network intrusion detection system<BR>Network protocol analysis<BR>Packet capture<BR>Process use of network</TD></TR><TR><TD>T1199: Trusted Relationship</TD><TD>2</TD><TD>0</TD><TD>0</TD><TD>Application logs<BR>Authentication logs<BR>Third-party application logs</TD></TR><TR><TD>T1017: Application Deployment Software</TD><TD>1</TD><TD>0</TD><TD>0</TD><TD>File monitoring<BR>Process use of network<BR>Process monitoring</TD></TR><TR><TD>T1123: Audio Capture</TD><TD>1</TD><TD>9</TD><TD>2</TD><TD>API monitoring<BR>Process monitoring<BR>File monitoring</TD></TR><TR><TD>T1020: Automated Exfiltration</TD><TD>1</TD><TD>4</TD><TD>0</TD><TD>File monitoring<BR>Process monitoring<BR>Process use of network</TD></TR><TR><TD>T1092: Communication Through Removable Media</TD><TD>1</TD><TD>2</TD><TD>0</TD><TD>File monitoring<BR>Data loss prevention</TD></TR><TR><TD>T1081: Credentials in Files</TD><TD>1</TD><TD>7</TD><TD>2</TD><TD>File monitoring<BR>Process command-line parameters</TD></TR><TR><TD>T1030: Data Transfer Size Limits</TD><TD>1</TD><TD>4</TD><TD>0</TD><TD>Packet capture<BR>Netflow/Enclave netflow<BR>Process use of network<BR>Process monitoring</TD></TR><TR><TD>T1172: Domain Fronting</TD><TD>1</TD><TD>0</TD><TD>1</TD><TD>SSL/TLS inspection<BR>Packet capture</TD></TR><TR><TD>T1190: Exploit Public-Facing Application</TD><TD>1</TD><TD>0</TD><TD>2</TD><TD>Packet capture<BR>Web logs<BR>Web application firewall logs<BR>Application logs</TD></TR><TR><TD>T1211: Exploitation for Defense Evasion</TD><TD>1</TD><TD>0</TD><TD>0</TD><TD>Windows Error Reporting<BR>Process monitoring<BR>File monitoring</TD></TR><TR><TD>T1210: Exploitation of Remote Services</TD><TD>1</TD><TD>1</TD><TD>0</TD><TD>Windows Error Reporting<BR>Process monitoring<BR>File monitoring</TD></TR><TR><TD>T1061: Graphical User Interface</TD><TD>1</TD><TD>0</TD><TD>0</TD><TD>File monitoring<BR>Process monitoring<BR>Process command-line parameters<BR>Binary file metadata</TD></TR><TR><TD>T1104: Multi-Stage Channels</TD><TD>1</TD><TD>3</TD><TD>0</TD><TD>Netflow/Enclave netflow<BR>Network device logs<BR>Network protocol analysis<BR>Packet capture<BR>Process use of network</TD></TR><TR><TD>T1188: Multi-hop Proxy</TD><TD>1</TD><TD>3</TD><TD>1</TD><TD>Network protocol analysis<BR>Netflow/Enclave netflow</TD></TR><TR><TD>T1026: Multiband Communication</TD><TD>1</TD><TD>1</TD><TD>1</TD><TD>Packet capture<BR>Netflow/Enclave netflow<BR>Process use of network<BR>Malware reverse engineering<BR>Process monitoring</TD></TR><TR><TD>T1040: Network Sniffing</TD><TD>1</TD><TD>1</TD><TD>1</TD><TD>Network device logs<BR>Host network interface<BR>Netflow/Enclave netflow<BR>Process monitoring</TD></TR><TR><TD>T1201: Password Policy Discovery</TD><TD>1</TD><TD>1</TD><TD>1</TD><TD>Process command-line parameters<BR>Process monitoring</TD></TR><TR><TD>T1014: Rootkit</TD><TD>1</TD><TD>6</TD><TD>0</TD><TD>BIOS<BR>MBR<BR>System calls</TD></TR><TR><TD>T1195: Supply Chain Compromise</TD><TD>1</TD><TD>2</TD><TD>0</TD><TD>Web proxy<BR>File monitoring</TD></TR><TR><TD>T1072: Third-party Software</TD><TD>1</TD><TD>1</TD><TD>0</TD><TD>File monitoring<BR>Third-party application logs<BR>Windows Registry<BR>Process monitoring<BR>Process use of network<BR>Binary file metadata</TD></TR><TR><TD>T1156: .bash_profile and .bashrc</TD><TD>0</TD><TD>0</TD><TD>0</TD><TD>File monitoring<BR>Process monitoring<BR>Process command-line parameters<BR>Process use of network</TD></TR><TR><TD>T1139: Bash History</TD><TD>0</TD><TD>0</TD><TD>0</TD><TD>File monitoring<BR>Process monitoring<BR>Process command-line parameters</TD></TR><TR><TD>T1217: Browser Bookmark Discovery</TD><TD>0</TD><TD>2</TD><TD>0</TD><TD>API monitoring<BR>File monitoring<BR>Process command-line parameters<BR>Process monitoring</TD></TR><TR><TD>T1176: Browser Extensions</TD><TD>0</TD><TD>0</TD><TD>0</TD><TD>Network protocol analysis<BR>Packet capture<BR>System calls<BR>Process use of network<BR>Process monitoring<BR>Browser extensions</TD></TR><TR><TD>T1146: Clear Command History</TD><TD>0</TD><TD>0</TD><TD>0</TD><TD>Authentication logs<BR>File monitoring</TD></TR><TR><TD>T1115: Clipboard Data</TD><TD>0</TD><TD>9</TD><TD>1</TD><TD>API monitoring</TD></TR><TR><TD>T1011: Exfiltration Over Other Network Medium</TD><TD>0</TD><TD>1</TD><TD>0</TD><TD>User interface<BR>Process monitoring</TD></TR><TR><TD>T1052: Exfiltration Over Physical Medium</TD><TD>0</TD><TD>4</TD><TD>0</TD><TD>Data loss prevention<BR>File monitoring</TD></TR><TR><TD>T1212: Exploitation for Credential Access</TD><TD>0</TD><TD>0</TD><TD>0</TD><TD>Authentication logs<BR>Windows Error Reporting<BR>Process monitoring</TD></TR><TR><TD>T1222: File Permissions Modification</TD><TD>0</TD><TD>1</TD><TD>0</TD><TD>File monitoring<BR>Process monitoring<BR>Process command-line parameters<BR>Windows event logs</TD></TR><TR><TD>T1148: HISTCONTROL</TD><TD>0</TD><TD>0</TD><TD>0</TD><TD>Process monitoring<BR>Authentication logs<BR>File monitoring<BR>Environment variable</TD></TR><TR><TD>T1200: Hardware Additions</TD><TD>0</TD><TD>0</TD><TD>0</TD><TD>Asset management<BR>Data loss prevention</TD></TR><TR><TD>T1130: Install Root Certificate</TD><TD>0</TD><TD>2</TD><TD>1</TD><TD>SSL/TLS inspection<BR>Digital certificate logs</TD></TR><TR><TD>T1215: Kernel Modules and Extensions</TD><TD>0</TD><TD>0</TD><TD>0</TD><TD>System calls<BR>Process monitoring<BR>Process command-line parameters</TD></TR><TR><TD>T1168: Local Job Scheduling</TD><TD>0</TD><TD>1</TD><TD>0</TD><TD>File monitoring<BR>Process monitoring</TD></TR><TR><TD>T1079: Multilayer Encryption</TD><TD>0</TD><TD>2</TD><TD>2</TD><TD>Packet capture<BR>Process use of network<BR>Malware reverse engineering<BR>Process monitoring</TD></TR><TR><TD>T1205: Port Knocking</TD><TD>0</TD><TD>2</TD><TD>0</TD><TD></TD></TR><TR><TD>T1145: Private Keys</TD><TD>0</TD><TD>0</TD><TD>1</TD><TD>File monitoring</TD></TR><TR><TD>T1184: SSH Hijacking</TD><TD>0</TD><TD>0</TD><TD>0</TD><TD>Authentication logs</TD></TR><TR><TD>T1029: Scheduled Transfer</TD><TD>0</TD><TD>5</TD><TD>1</TD><TD>Netflow/Enclave netflow<BR>Process use of network<BR>Process monitoring</TD></TR><TR><TD>T1166: Setuid and Setgid</TD><TD>0</TD><TD>1</TD><TD>0</TD><TD>File monitoring<BR>Process monitoring<BR>Process command-line parameters</TD></TR><TR><TD>T1153: Source</TD><TD>0</TD><TD>0</TD><TD>0</TD><TD>Process monitoring<BR>File monitoring<BR>Process command-line parameters</TD></TR><TR><TD>T1151: Space after Filename</TD><TD>0</TD><TD>1</TD><TD>0</TD><TD>File monitoring<BR>Process monitoring</TD></TR><TR><TD>T1169: Sudo</TD><TD>0</TD><TD>0</TD><TD>0</TD><TD>File monitoring</TD></TR><TR><TD>T1206: Sudo Caching</TD><TD>0</TD><TD>1</TD><TD>0</TD><TD>File monitoring<BR>Process command-line parameters</TD></TR><TR><TD>T1154: Trap</TD><TD>0</TD><TD>0</TD><TD>0</TD><TD>File monitoring<BR>Process monitoring<BR>Process command-line parameters</TD></TR><TR><TD>T1111: Two-Factor Authentication Interception</TD><TD>0</TD><TD>1</TD><TD>0</TD><TD>API monitoring<BR>Process monitoring<BR>Kernel drivers</TD></TR></TABLE>"
      ],
      "text/plain": [
       "<IPython.core.display.HTML object>"
      ]
     },
     "metadata": {},
     "output_type": "display_data"
    }
   ],
   "source": [
    "res = dict()\n",
    "\n",
    "for o in m[\"objects\"]:\n",
    "    if o[\"type\"] == \"attack-pattern\" and len(list(filter(lambda x: x == platform, o[\"x_mitre_platforms\"]))) > 0:\n",
    "        \n",
    "        mitre_t = list(filter(lambda x: x[\"source_name\"] == \"mitre-attack\", o[\"external_references\"]))[0][\"external_id\"]\n",
    "        k = mitre_t + \": \" + o[\"name\"]             \n",
    "        res[k] = dict()\n",
    "        res[k][\"x_mitre_data_sources\"] = list()\n",
    "        res[k][\"x_mitre_data_sources\"] = o.get(\"x_mitre_data_sources\",[])\n",
    "          \n",
    "        for c in [\"intrusion-set\",\"malware\",\"tool\"]: #APT, #malware, #tools\n",
    "            res[k][c] = 0\n",
    "        \n",
    "        for o2 in m[\"objects\"]: \n",
    "            if o2[\"type\"] == \"relationship\" \\\n",
    "            and o2[\"relationship_type\"] == \"uses\" \\\n",
    "            and o2[\"target_ref\"] == o[\"id\"]:\n",
    "                k2 = o2[\"source_ref\"][0:o2[\"source_ref\"].find(\"--\")]\n",
    "                if k2 in [\"intrusion-set\",\"malware\",\"tool\"]: \n",
    "                    res[k][k2] = res[k].get(k2,0) + 1\n",
    "                \n",
    "#print ('%60s  %13s %7s %4s %s' % (\"Techiques\", \"intrusion-set\",\"malware\",\"tool\",\"data_sources\"))\n",
    "#for kk, aa, mm, tt, ds in sorted ( ( (k, res[k][\"intrusion-set\"], res[k][\"malware\"], res[k][\"tool\"],res[k][\"x_mitre_data_sources\"]) for k in res.keys()), \\\n",
    "#                          key = itemgetter(1), reverse = True ) :\n",
    "#    print('%60s  %13d %7d %4d %s' % (kk, aa, mm, tt, '\\n'.join(ds) ) )\n",
    "\n",
    "data = list()\n",
    "for kk, aa, mm, tt, ds in sorted ( ( (k, res[k][\"intrusion-set\"], res[k][\"malware\"], res[k][\"tool\"],res[k][\"x_mitre_data_sources\"]) for k in res.keys()), \\\n",
    "                          key = itemgetter(1), reverse = True ) :\n",
    "    data.append([kk, aa, mm, tt, \"<BR>\".join(ds)])\n",
    "\n",
    "display(HTML(HTMLx.html_table([\"techique\", \"intrusion-set\",\"malware\",\"tool\",\"data_sources\"],data)))"
   ]
  },
  {
   "cell_type": "markdown",
   "metadata": {},
   "source": [
    "## Telemetry required for Techniques"
   ]
  },
  {
   "cell_type": "code",
   "execution_count": 49,
   "metadata": {},
   "outputs": [
    {
     "data": {
      "text/html": [
       "<TABLE BORDER=\"1\"><TR><TH ALIGN=\"CENTER\">Telemetry</TH ALIGN=\"CENTER\"><TH>attack-pattern</TH></TR></TR><TR><TD>Process monitoring</TD><TD>76</TD></TR><TR><TD>File monitoring</TD><TD>49</TD></TR><TR><TD>Process command-line parameters</TD><TD>41</TD></TR><TR><TD>Process use of network</TD><TD>30</TD></TR><TR><TD>Packet capture</TD><TD>25</TD></TR><TR><TD>Netflow/Enclave netflow</TD><TD>20</TD></TR><TR><TD>Network protocol analysis</TD><TD>15</TD></TR><TR><TD>API monitoring</TD><TD>13</TD></TR><TR><TD>Authentication logs</TD><TD>12</TD></TR><TR><TD>Binary file metadata</TD><TD>10</TD></TR><TR><TD>Malware reverse engineering</TD><TD>8</TD></TR><TR><TD>SSL/TLS inspection</TD><TD>8</TD></TR><TR><TD>Network intrusion detection system</TD><TD>6</TD></TR><TR><TD>Anti-virus</TD><TD>6</TD></TR><TR><TD>Data loss prevention</TD><TD>5</TD></TR><TR><TD>System calls</TD><TD>4</TD></TR><TR><TD>Windows event logs</TD><TD>4</TD></TR><TR><TD>Host network interface</TD><TD>4</TD></TR><TR><TD>Application logs</TD><TD>4</TD></TR><TR><TD>Windows Registry</TD><TD>4</TD></TR><TR><TD>Web proxy</TD><TD>4</TD></TR><TR><TD>Windows Error Reporting</TD><TD>4</TD></TR><TR><TD>Third-party application logs</TD><TD>3</TD></TR><TR><TD>Network device logs</TD><TD>3</TD></TR><TR><TD>User interface</TD><TD>3</TD></TR><TR><TD>Email gateway</TD><TD>3</TD></TR><TR><TD>MBR</TD><TD>2</TD></TR><TR><TD>Environment variable</TD><TD>2</TD></TR><TR><TD>Kernel drivers</TD><TD>2</TD></TR><TR><TD>Detonation chamber</TD><TD>2</TD></TR><TR><TD>Mail server</TD><TD>2</TD></TR><TR><TD>VBR</TD><TD>1</TD></TR><TR><TD>Browser extensions</TD><TD>1</TD></TR><TR><TD>PowerShell logs</TD><TD>1</TD></TR><TR><TD>Services</TD><TD>1</TD></TR><TR><TD>Web logs</TD><TD>1</TD></TR><TR><TD>Web application firewall logs</TD><TD>1</TD></TR><TR><TD>Asset management</TD><TD>1</TD></TR><TR><TD>Digital certificate logs</TD><TD>1</TD></TR><TR><TD>DLL monitoring</TD><TD>1</TD></TR><TR><TD>Named Pipes</TD><TD>1</TD></TR><TR><TD>BIOS</TD><TD>1</TD></TR><TR><TD>DNS records</TD><TD>1</TD></TR></TABLE>"
      ],
      "text/plain": [
       "<IPython.core.display.HTML object>"
      ]
     },
     "metadata": {},
     "output_type": "display_data"
    }
   ],
   "source": [
    "res = dict()\n",
    "no_data_sources = list()\n",
    "for o in m[\"objects\"]:\n",
    "    t = o[\"type\"]\n",
    "    if t == \"attack-pattern\" and len(list(filter(lambda x: x == platform, o[\"x_mitre_platforms\"]))) > 0:\n",
    "        if o.get(\"x_mitre_data_sources\") is None:\n",
    "            no_data_sources.append(o[\"name\"])\n",
    "        else:\n",
    "            for s in o[\"x_mitre_data_sources\"]:\n",
    "                res[s] = res.get(s,0) + 1\n",
    "\n",
    "display(HTML(\n",
    "    HTMLx.html_table([\"Telemetry\", \"attack-pattern\"],\\\n",
    "                     list([key,value] for key, value in sorted(res.items(), key = itemgetter(1), reverse = True)))\n",
    "))"
   ]
  },
  {
   "cell_type": "markdown",
   "metadata": {},
   "source": [
    "## Windows techniques without required telemetry specified"
   ]
  },
  {
   "cell_type": "code",
   "execution_count": 50,
   "metadata": {},
   "outputs": [
    {
     "name": "stdout",
     "output_type": "stream",
     "text": [
      "Port Knocking\n"
     ]
    }
   ],
   "source": [
    "for i in no_data_sources:\n",
    "    print(i)"
   ]
  },
  {
   "cell_type": "code",
   "execution_count": null,
   "metadata": {},
   "outputs": [],
   "source": []
  }
 ],
 "metadata": {
  "kernelspec": {
   "display_name": "Python 3",
   "language": "python",
   "name": "python3"
  },
  "language_info": {
   "codemirror_mode": {
    "name": "ipython",
    "version": 3
   },
   "file_extension": ".py",
   "mimetype": "text/x-python",
   "name": "python",
   "nbconvert_exporter": "python",
   "pygments_lexer": "ipython3",
   "version": "3.7.1"
  }
 },
 "nbformat": 4,
 "nbformat_minor": 2
}
