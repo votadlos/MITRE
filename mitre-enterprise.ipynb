{
 "cells": [
  {
   "cell_type": "code",
   "execution_count": 1,
   "metadata": {},
   "outputs": [],
   "source": [
    "%load_ext autoreload\n",
    "%autoreload 2\n",
    "import urllib3, json, certifi\n",
    "import HTMLx\n",
    "from IPython.display import HTML, display\n",
    "from operator import itemgetter "
   ]
  },
  {
   "cell_type": "code",
   "execution_count": 2,
   "metadata": {},
   "outputs": [],
   "source": [
    "MITREFILE = \"enterprise-attack.json\"\n",
    "MITREURL = \"https://raw.githubusercontent.com/mitre/cti/master/enterprise-attack/enterprise-attack.json\""
   ]
  },
  {
   "cell_type": "code",
   "execution_count": 3,
   "metadata": {},
   "outputs": [],
   "source": [
    "http = urllib3.PoolManager(cert_reqs='CERT_REQUIRED',ca_certs=certifi.where())\n",
    "chunk_size = 1024\n",
    "r = http.request('GET', MITREURL, preload_content=False)\n",
    "\n",
    "with open(MITREFILE, 'wb') as out:\n",
    "    while True:\n",
    "        data = r.read(chunk_size)\n",
    "        if not data:\n",
    "            break\n",
    "        out.write(data)\n",
    "\n",
    "r.release_conn()"
   ]
  },
  {
   "cell_type": "code",
   "execution_count": 4,
   "metadata": {},
   "outputs": [],
   "source": [
    "with open(MITREFILE) as f:\n",
    "    m = json.load(f)"
   ]
  },
  {
   "cell_type": "code",
   "execution_count": 5,
   "metadata": {},
   "outputs": [
    {
     "name": "stdout",
     "output_type": "stream",
     "text": [
      "4548\n"
     ]
    }
   ],
   "source": [
    "print( len(m[\"objects\"]))"
   ]
  },
  {
   "cell_type": "markdown",
   "metadata": {},
   "source": [
    "# Number of objects of different type"
   ]
  },
  {
   "cell_type": "code",
   "execution_count": 6,
   "metadata": {},
   "outputs": [
    {
     "data": {
      "text/html": [
       "<TABLE BORDER=\"1\"><TR><TH ALIGN=\"CENTER\">Object</TH ALIGN=\"CENTER\"><TH>Cnt</TH></TR></TR><TR><TD>attack-pattern</TD><TD>223</TD></TR><TR><TD>relationship:course-of-action->mitigates->attack-pattern</TD><TD>222</TD></TR><TR><TD>relationship:intrusion-set->uses->attack-pattern</TD><TD>884</TD></TR><TR><TD>relationship:intrusion-set->uses->malware</TD><TD>199</TD></TR><TR><TD>relationship:intrusion-set->uses->tool</TD><TD>144</TD></TR><TR><TD>relationship:malware->uses->attack-pattern</TD><TD>2065</TD></TR><TR><TD>relationship:tool->uses->attack-pattern</TD><TD>208</TD></TR><TR><TD>relationship:intrusion-set->revoked-by->intrusion-set</TD><TD>2</TD></TR><TR><TD>relationship:malware->revoked-by->malware</TD><TD>1</TD></TR><TR><TD>course-of-action</TD><TD>222</TD></TR><TR><TD>identity</TD><TD>1</TD></TR><TR><TD>intrusion-set</TD><TD>80</TD></TR><TR><TD>malware</TD><TD>237</TD></TR><TR><TD>tool</TD><TD>47</TD></TR><TR><TD>x-mitre-matrix</TD><TD>1</TD></TR><TR><TD>x-mitre-tactic</TD><TD>11</TD></TR><TR><TD>marking-definition</TD><TD>1</TD></TR></TABLE>"
      ],
      "text/plain": [
       "<IPython.core.display.HTML object>"
      ]
     },
     "metadata": {},
     "output_type": "display_data"
    }
   ],
   "source": [
    "res = dict()\n",
    "for o in m[\"objects\"]:\n",
    "    #t = o[\"id\"][0:o[\"id\"].find(\"--\")]\n",
    "    t = o[\"type\"]\n",
    "    if t == \"relationship\":\n",
    "        s = o[\"source_ref\"][0:o[\"source_ref\"].find(\"--\")]\n",
    "        d = o[\"target_ref\"][0:o[\"target_ref\"].find(\"--\")]\n",
    "        t += \":\"+s+\"->\"+o[\"relationship_type\"]+\"->\"+d\n",
    "    res[t] = res.get(t,0) + 1\n",
    "\n",
    "display(HTML(HTMLx.html_table([\"Object\",\"Cnt\"],map(lambda x: [x, res[x]],res.keys()))))\n",
    "with open(\"objects.html\",\"w\") as f:\n",
    "    f.write(HTMLx.html_table([\"Object\",\"Cnt\"],map(lambda x: [x, res[x]],res.keys())))\n"
   ]
  },
  {
   "cell_type": "code",
   "execution_count": 7,
   "metadata": {},
   "outputs": [
    {
     "data": {
      "text/html": [
       "<H1>Windows</H1>"
      ],
      "text/plain": [
       "<IPython.core.display.HTML object>"
      ]
     },
     "metadata": {},
     "output_type": "display_data"
    }
   ],
   "source": [
    "platform = \"Windows\"\n",
    "display(HTML(\"<H1>{}</H1>\".format(platform)))"
   ]
  },
  {
   "cell_type": "markdown",
   "metadata": {},
   "source": [
    "## APT actors uses Techniques"
   ]
  },
  {
   "cell_type": "code",
   "execution_count": 8,
   "metadata": {},
   "outputs": [
    {
     "data": {
      "text/html": [
       "<TABLE BORDER=\"1\"><TR><TH ALIGN=\"CENTER\">techique</TH ALIGN=\"CENTER\"><TH>intrusion-set</TH ALIGN=\"CENTER\"><TH>malware</TH ALIGN=\"CENTER\"><TH>tool</TH ALIGN=\"CENTER\"><TH>data_sources</TH></TR></TR><TR><TD>T1064: Scripting</TD><TD>31</TD><TD>19</TD><TD>3</TD><TD>Process monitoring<BR>File monitoring<BR>Process command-line parameters</TD></TR><TR><TD>T1086: PowerShell</TD><TD>28</TD><TD>15</TD><TD>3</TD><TD>Windows Registry<BR>File monitoring<BR>Process monitoring<BR>Process command-line parameters</TD></TR><TR><TD>T1003: Credential Dumping</TD><TD>27</TD><TD>21</TD><TD>13</TD><TD>API monitoring<BR>Process monitoring<BR>PowerShell logs<BR>Process command-line parameters</TD></TR><TR><TD>T1204: User Execution</TD><TD>26</TD><TD>1</TD><TD>0</TD><TD>Anti-virus<BR>Process command-line parameters<BR>Process monitoring</TD></TR><TR><TD>T1027: Obfuscated Files or Information</TD><TD>24</TD><TD>62</TD><TD>2</TD><TD>Network protocol analysis<BR>Process use of network<BR>File monitoring<BR>Malware reverse engineering<BR>Binary file metadata<BR>Process command-line parameters<BR>Environment variable<BR>Process monitoring<BR>Windows event logs<BR>Network intrusion detection system<BR>Email gateway<BR>SSL/TLS inspection</TD></TR><TR><TD>T1059: Command-Line Interface</TD><TD>23</TD><TD>85</TD><TD>4</TD><TD>Process monitoring<BR>Process command-line parameters</TD></TR><TR><TD>T1060: Registry Run Keys / Startup Folder</TD><TD>23</TD><TD>68</TD><TD>2</TD><TD>Windows Registry<BR>File monitoring</TD></TR><TR><TD>T1105: Remote File Copy</TD><TD>23</TD><TD>97</TD><TD>6</TD><TD>File monitoring<BR>Packet capture<BR>Process use of network<BR>Netflow/Enclave netflow<BR>Network protocol analysis<BR>Process monitoring</TD></TR><TR><TD>T1193: Spearphishing Attachment</TD><TD>23</TD><TD>0</TD><TD>0</TD><TD>File monitoring<BR>Packet capture<BR>Network intrusion detection system<BR>Detonation chamber<BR>Email gateway<BR>Mail server</TD></TR><TR><TD>T1071: Standard Application Layer Protocol</TD><TD>21</TD><TD>104</TD><TD>2</TD><TD>Packet capture<BR>Netflow/Enclave netflow<BR>Process use of network<BR>Malware reverse engineering<BR>Process monitoring</TD></TR><TR><TD>T1107: File Deletion</TD><TD>18</TD><TD>64</TD><TD>2</TD><TD>File monitoring<BR>Process command-line parameters<BR>Binary file metadata</TD></TR><TR><TD>T1078: Valid Accounts</TD><TD>18</TD><TD>4</TD><TD>1</TD><TD>Authentication logs<BR>Process monitoring</TD></TR><TR><TD>T1053: Scheduled Task</TD><TD>17</TD><TD>22</TD><TD>4</TD><TD>File monitoring<BR>Process monitoring<BR>Process command-line parameters<BR>Windows event logs</TD></TR><TR><TD>T1002: Data Compressed</TD><TD>15</TD><TD>14</TD><TD>1</TD><TD>Binary file metadata<BR>File monitoring<BR>Process command-line parameters<BR>Process monitoring</TD></TR><TR><TD>T1083: File and Directory Discovery</TD><TD>15</TD><TD>81</TD><TD>3</TD><TD>File monitoring<BR>Process monitoring<BR>Process command-line parameters</TD></TR><TR><TD>T1082: System Information Discovery</TD><TD>15</TD><TD>99</TD><TD>4</TD><TD>Process monitoring<BR>Process command-line parameters</TD></TR><TR><TD>T1005: Data from Local System</TD><TD>14</TD><TD>20</TD><TD>4</TD><TD>File monitoring<BR>Process monitoring<BR>Process command-line parameters</TD></TR><TR><TD>T1057: Process Discovery</TD><TD>14</TD><TD>66</TD><TD>4</TD><TD>Process monitoring<BR>Process command-line parameters</TD></TR><TR><TD>T1016: System Network Configuration Discovery</TD><TD>13</TD><TD>57</TD><TD>7</TD><TD>Process monitoring<BR>Process command-line parameters</TD></TR><TR><TD>T1074: Data Staged</TD><TD>12</TD><TD>22</TD><TD>0</TD><TD>File monitoring<BR>Process monitoring<BR>Process command-line parameters</TD></TR><TR><TD>T1189: Drive-by Compromise</TD><TD>12</TD><TD>2</TD><TD>0</TD><TD>Packet capture<BR>Network device logs<BR>Process use of network<BR>Web proxy<BR>Network intrusion detection system<BR>SSL/TLS inspection</TD></TR><TR><TD>T1076: Remote Desktop Protocol</TD><TD>12</TD><TD>1</TD><TD>4</TD><TD>Authentication logs<BR>Netflow/Enclave netflow<BR>Process monitoring</TD></TR><TR><TD>T1018: Remote System Discovery</TD><TD>12</TD><TD>10</TD><TD>3</TD><TD>Network protocol analysis<BR>Process monitoring<BR>Process use of network<BR>Process command-line parameters</TD></TR><TR><TD>T1192: Spearphishing Link</TD><TD>12</TD><TD>0</TD><TD>0</TD><TD>Packet capture<BR>Web proxy<BR>Email gateway<BR>Detonation chamber<BR>SSL/TLS inspection<BR>DNS records<BR>Mail server</TD></TR><TR><TD>T1033: System Owner/User Discovery</TD><TD>12</TD><TD>45</TD><TD>2</TD><TD>File monitoring<BR>Process monitoring<BR>Process command-line parameters</TD></TR><TR><TD>T1056: Input Capture</TD><TD>11</TD><TD>44</TD><TD>4</TD><TD>Windows Registry<BR>Kernel drivers<BR>Process monitoring<BR>API monitoring</TD></TR><TR><TD>T1036: Masquerading</TD><TD>11</TD><TD>33</TD><TD>1</TD><TD>File monitoring<BR>Process monitoring<BR>Binary file metadata</TD></TR><TR><TD>T1087: Account Discovery</TD><TD>10</TD><TD>19</TD><TD>4</TD><TD>API monitoring<BR>Process monitoring<BR>Process command-line parameters</TD></TR><TR><TD>T1140: Deobfuscate/Decode Files or Information</TD><TD>10</TD><TD>20</TD><TD>1</TD><TD>File monitoring<BR>Process monitoring<BR>Process command-line parameters</TD></TR><TR><TD>T1116: Code Signing</TD><TD>9</TD><TD>11</TD><TD>2</TD><TD>Binary file metadata</TD></TR><TR><TD>T1043: Commonly Used Port</TD><TD>9</TD><TD>40</TD><TD>2</TD><TD>Packet capture<BR>Netflow/Enclave netflow<BR>Process use of network<BR>Process monitoring</TD></TR><TR><TD>T1203: Exploitation for Client Execution</TD><TD>9</TD><TD>2</TD><TD>0</TD><TD>Anti-virus<BR>System calls<BR>Process monitoring</TD></TR><TR><TD>T1055: Process Injection</TD><TD>9</TD><TD>28</TD><TD>4</TD><TD>API monitoring<BR>Windows Registry<BR>File monitoring<BR>DLL monitoring<BR>Process monitoring<BR>Named Pipes</TD></TR><TR><TD>T1102: Web Service</TD><TD>9</TD><TD>20</TD><TD>0</TD><TD>Host network interface<BR>Netflow/Enclave netflow<BR>Network protocol analysis<BR>Packet capture<BR>SSL/TLS inspection</TD></TR><TR><TD>T1047: Windows Management Instrumentation</TD><TD>9</TD><TD>12</TD><TD>3</TD><TD>Authentication logs<BR>Netflow/Enclave netflow<BR>Process monitoring<BR>Process command-line parameters</TD></TR><TR><TD>T1022: Data Encrypted</TD><TD>8</TD><TD>18</TD><TD>0</TD><TD>File monitoring<BR>Process monitoring<BR>Process command-line parameters<BR>Binary file metadata</TD></TR><TR><TD>T1050: New Service</TD><TD>8</TD><TD>36</TD><TD>1</TD><TD>Windows Registry<BR>Process monitoring<BR>Process command-line parameters<BR>Windows event logs</TD></TR><TR><TD>T1113: Screen Capture</TD><TD>8</TD><TD>50</TD><TD>3</TD><TD>API monitoring<BR>Process monitoring<BR>File monitoring</TD></TR><TR><TD>T1032: Standard Cryptographic Protocol</TD><TD>8</TD><TD>37</TD><TD>3</TD><TD>Packet capture<BR>Netflow/Enclave netflow<BR>Malware reverse engineering<BR>Process use of network<BR>Process monitoring<BR>SSL/TLS inspection</TD></TR><TR><TD>T1049: System Network Connections Discovery</TD><TD>8</TD><TD>13</TD><TD>4</TD><TD>Process monitoring<BR>Process command-line parameters</TD></TR><TR><TD>T1077: Windows Admin Shares</TD><TD>8</TD><TD>6</TD><TD>3</TD><TD>Process use of network<BR>Authentication logs<BR>Process monitoring<BR>Process command-line parameters</TD></TR><TR><TD>T1068: Exploitation for Privilege Escalation</TD><TD>7</TD><TD>4</TD><TD>1</TD><TD>Windows Error Reporting<BR>Process monitoring<BR>Application logs</TD></TR><TR><TD>T1112: Modify Registry</TD><TD>7</TD><TD>26</TD><TD>2</TD><TD>Windows Registry<BR>File monitoring<BR>Process monitoring<BR>Process command-line parameters<BR>Windows event logs</TD></TR><TR><TD>T1046: Network Service Scanning</TD><TD>7</TD><TD>5</TD><TD>3</TD><TD>Netflow/Enclave netflow<BR>Network protocol analysis<BR>Packet capture<BR>Process command-line parameters<BR>Process use of network</TD></TR><TR><TD>T1045: Software Packing</TD><TD>7</TD><TD>11</TD><TD>0</TD><TD>Binary file metadata</TD></TR><TR><TD>T1119: Automated Collection</TD><TD>6</TD><TD>11</TD><TD>0</TD><TD>File monitoring<BR>Data loss prevention<BR>Process command-line parameters</TD></TR><TR><TD>T1110: Brute Force</TD><TD>6</TD><TD>2</TD><TD>0</TD><TD>Authentication logs</TD></TR><TR><TD>T1088: Bypass User Account Control</TD><TD>6</TD><TD>11</TD><TD>4</TD><TD>System calls<BR>Process monitoring<BR>Authentication logs<BR>Process command-line parameters</TD></TR><TR><TD>T1073: DLL Side-Loading</TD><TD>6</TD><TD>11</TD><TD>0</TD><TD>Process use of network<BR>Process monitoring<BR>Loaded DLLs</TD></TR><TR><TD>T1089: Disabling Security Tools</TD><TD>6</TD><TD>20</TD><TD>1</TD><TD>API monitoring<BR>File monitoring<BR>Services<BR>Windows Registry<BR>Process command-line parameters<BR>Anti-virus</TD></TR><TR><TD>T1114: Email Collection</TD><TD>6</TD><TD>6</TD><TD>1</TD><TD>Authentication logs<BR>File monitoring<BR>Process monitoring<BR>Process use of network</TD></TR><TR><TD>T1133: External Remote Services</TD><TD>6</TD><TD>0</TD><TD>0</TD><TD>Authentication logs</TD></TR><TR><TD>T1070: Indicator Removal on Host</TD><TD>6</TD><TD>12</TD><TD>1</TD><TD>File monitoring<BR>Process monitoring<BR>Process command-line parameters<BR>API monitoring<BR>Windows event logs</TD></TR><TR><TD>T1012: Query Registry</TD><TD>6</TD><TD>27</TD><TD>2</TD><TD>Windows Registry<BR>Process monitoring<BR>Process command-line parameters</TD></TR><TR><TD>T1108: Redundant Access</TD><TD>6</TD><TD>1</TD><TD>0</TD><TD>Process monitoring<BR>Process use of network<BR>Packet capture<BR>Network protocol analysis<BR>File monitoring<BR>Authentication logs<BR>Binary file metadata</TD></TR><TR><TD>T1009: Binary Padding</TD><TD>5</TD><TD>8</TD><TD>0</TD><TD>Binary file metadata<BR>File monitoring<BR>Malware reverse engineering</TD></TR><TR><TD>T1090: Connection Proxy</TD><TD>5</TD><TD>15</TD><TD>4</TD><TD>Process use of network<BR>Process monitoring<BR>Netflow/Enclave netflow<BR>Packet capture</TD></TR><TR><TD>T1173: Dynamic Data Exchange</TD><TD>5</TD><TD>2</TD><TD>0</TD><TD>API monitoring<BR>DLL monitoring<BR>Process monitoring<BR>Windows Registry<BR>Windows event logs</TD></TR><TR><TD>T1041: Exfiltration Over Command and Control Channel</TD><TD>5</TD><TD>11</TD><TD>1</TD><TD>User interface<BR>Process monitoring</TD></TR><TR><TD>T1066: Indicator Removal from Tools</TD><TD>5</TD><TD>2</TD><TD>2</TD><TD>Process use of network<BR>Process monitoring<BR>Process command-line parameters<BR>Anti-virus<BR>Binary file metadata</TD></TR><TR><TD>T1069: Permission Groups Discovery</TD><TD>5</TD><TD>9</TD><TD>2</TD><TD>API monitoring<BR>Process monitoring<BR>Process command-line parameters</TD></TR><TR><TD>T1117: Regsvr32</TD><TD>5</TD><TD>3</TD><TD>1</TD><TD>Loaded DLLs<BR>Process monitoring<BR>Windows Registry<BR>Process command-line parameters</TD></TR><TR><TD>T1085: Rundll32</TD><TD>5</TD><TD>24</TD><TD>1</TD><TD>File monitoring<BR>Process monitoring<BR>Process command-line parameters<BR>Binary file metadata</TD></TR><TR><TD>T1023: Shortcut Modification</TD><TD>5</TD><TD>15</TD><TD>0</TD><TD>File monitoring<BR>Process monitoring<BR>Process command-line parameters</TD></TR><TR><TD>T1007: System Service Discovery</TD><TD>5</TD><TD>18</TD><TD>2</TD><TD>Process monitoring<BR>Process command-line parameters</TD></TR><TR><TD>T1065: Uncommonly Used Port</TD><TD>5</TD><TD>11</TD><TD>0</TD><TD>Netflow/Enclave netflow<BR>Process use of network<BR>Process monitoring</TD></TR><TR><TD>T1015: Accessibility Features</TD><TD>4</TD><TD>0</TD><TD>0</TD><TD>Windows Registry<BR>File monitoring<BR>Process monitoring</TD></TR><TR><TD>T1094: Custom Command and Control Protocol</TD><TD>4</TD><TD>26</TD><TD>1</TD><TD>Packet capture<BR>Netflow/Enclave netflow<BR>Process use of network<BR>Process monitoring<BR>Host network interface<BR>Network intrusion detection system<BR>Network protocol analysis</TD></TR><TR><TD>T1132: Data Encoding</TD><TD>4</TD><TD>22</TD><TD>0</TD><TD>Packet capture<BR>Process use of network<BR>Process monitoring<BR>Network protocol analysis</TD></TR><TR><TD>T1048: Exfiltration Over Alternative Protocol</TD><TD>4</TD><TD>5</TD><TD>2</TD><TD>User interface<BR>Process monitoring<BR>Process use of network<BR>Packet capture<BR>Netflow/Enclave netflow<BR>Network protocol analysis</TD></TR><TR><TD>T1100: Web Shell</TD><TD>4</TD><TD>4</TD><TD>0</TD><TD>Anti-virus<BR>Authentication logs<BR>File monitoring<BR>Netflow/Enclave netflow<BR>Process monitoring</TD></TR><TR><TD>T1098: Account Manipulation</TD><TD>3</TD><TD>2</TD><TD>1</TD><TD>Authentication logs<BR>API monitoring<BR>Windows event logs<BR>Packet capture</TD></TR><TR><TD>T1223: Compiled HTML File</TD><TD>3</TD><TD>0</TD><TD>0</TD><TD>File monitoring<BR>Process monitoring<BR>Process command-line parameters</TD></TR><TR><TD>T1136: Create Account</TD><TD>3</TD><TD>5</TD><TD>2</TD><TD>Process monitoring<BR>Process command-line parameters<BR>Authentication logs<BR>Windows event logs</TD></TR><TR><TD>T1039: Data from Network Shared Drive</TD><TD>3</TD><TD>2</TD><TD>0</TD><TD>File monitoring<BR>Process monitoring<BR>Process command-line parameters</TD></TR><TR><TD>T1075: Pass the Hash</TD><TD>3</TD><TD>0</TD><TD>3</TD><TD>Authentication logs</TD></TR><TR><TD>T1120: Peripheral Device Discovery</TD><TD>3</TD><TD>9</TD><TD>0</TD><TD></TD></TR><TR><TD>T1093: Process Hollowing</TD><TD>3</TD><TD>7</TD><TD>1</TD><TD>Process monitoring<BR>API monitoring</TD></TR><TR><TD>T1219: Remote Access Tools</TD><TD>3</TD><TD>1</TD><TD>0</TD><TD>Network intrusion detection system<BR>Network protocol analysis<BR>Process use of network<BR>Process monitoring</TD></TR><TR><TD>T1021: Remote Services</TD><TD>3</TD><TD>1</TD><TD>1</TD><TD>Authentication logs</TD></TR><TR><TD>T1063: Security Software Discovery</TD><TD>3</TD><TD>28</TD><TD>2</TD><TD>File monitoring<BR>Process monitoring<BR>Process command-line parameters</TD></TR><TR><TD>T1124: System Time Discovery</TD><TD>3</TD><TD>10</TD><TD>1</TD><TD>Process monitoring<BR>Process command-line parameters<BR>API monitoring</TD></TR><TR><TD>T1099: Timestomp</TD><TD>3</TD><TD>14</TD><TD>1</TD><TD>File monitoring<BR>Process monitoring<BR>Process command-line parameters</TD></TR><TR><TD>T1134: Access Token Manipulation</TD><TD>2</TD><TD>5</TD><TD>3</TD><TD>API monitoring<BR>Access tokens<BR>Process monitoring<BR>Process command-line parameters</TD></TR><TR><TD>T1067: Bootkit</TD><TD>2</TD><TD>3</TD><TD>0</TD><TD>API monitoring<BR>MBR<BR>VBR</TD></TR><TR><TD>T1191: CMSTP</TD><TD>2</TD><TD>0</TD><TD>0</TD><TD>Process monitoring<BR>Process command-line parameters<BR>Process use of network<BR>Windows event logs</TD></TR><TR><TD>T1024: Custom Cryptographic Protocol</TD><TD>2</TD><TD>32</TD><TD>0</TD><TD>Packet capture<BR>Netflow/Enclave netflow<BR>Process use of network<BR>Malware reverse engineering<BR>Process monitoring</TD></TR><TR><TD>T1038: DLL Search Order Hijacking</TD><TD>2</TD><TD>8</TD><TD>1</TD><TD>File monitoring<BR>DLL monitoring<BR>Process monitoring<BR>Process command-line parameters</TD></TR><TR><TD>T1001: Data Obfuscation</TD><TD>2</TD><TD>15</TD><TD>0</TD><TD>Packet capture<BR>Process use of network<BR>Process monitoring<BR>Network protocol analysis</TD></TR><TR><TD>T1213: Data from Information Repositories</TD><TD>2</TD><TD>0</TD><TD>1</TD><TD>Application logs<BR>Authentication logs<BR>Data loss prevention<BR>Third-party application logs</TD></TR><TR><TD>T1025: Data from Removable Media</TD><TD>2</TD><TD>9</TD><TD>0</TD><TD>File monitoring<BR>Process monitoring<BR>Process command-line parameters</TD></TR><TR><TD>T1106: Execution through API</TD><TD>2</TD><TD>10</TD><TD>1</TD><TD>API monitoring<BR>Process monitoring</TD></TR><TR><TD>T1008: Fallback Channels</TD><TD>2</TD><TD>17</TD><TD>0</TD><TD>Malware reverse engineering<BR>Netflow/Enclave netflow<BR>Packet capture<BR>Process monitoring<BR>Process use of network</TD></TR><TR><TD>T1187: Forced Authentication</TD><TD>2</TD><TD>0</TD><TD>0</TD><TD>File monitoring<BR>Network protocol analysis<BR>Network device logs<BR>Process use of network</TD></TR><TR><TD>T1158: Hidden Files and Directories</TD><TD>2</TD><TD>5</TD><TD>0</TD><TD>File monitoring<BR>Process monitoring<BR>Process command-line parameters</TD></TR><TR><TD>T1031: Modify Existing Service</TD><TD>2</TD><TD>5</TD><TD>1</TD><TD>Windows Registry<BR>File monitoring<BR>Process monitoring<BR>Process command-line parameters</TD></TR><TR><TD>T1170: Mshta</TD><TD>2</TD><TD>2</TD><TD>1</TD><TD>Process monitoring<BR>Process command-line parameters</TD></TR><TR><TD>T1135: Network Share Discovery</TD><TD>2</TD><TD>4</TD><TD>4</TD><TD>Process monitoring<BR>Process command-line parameters<BR>Network protocol analysis<BR>Process use of network</TD></TR><TR><TD>T1097: Pass the Ticket</TD><TD>2</TD><TD>1</TD><TD>1</TD><TD>Authentication logs</TD></TR><TR><TD>T1091: Replication Through Removable Media</TD><TD>2</TD><TD>8</TD><TD>0</TD><TD>File monitoring<BR>Data loss prevention</TD></TR><TR><TD>T1035: Service Execution</TD><TD>2</TD><TD>7</TD><TD>7</TD><TD>Windows Registry<BR>Process monitoring<BR>Process command-line parameters</TD></TR><TR><TD>T1194: Spearphishing via Service</TD><TD>2</TD><TD>0</TD><TD>0</TD><TD>SSL/TLS inspection<BR>Anti-virus<BR>Web proxy</TD></TR><TR><TD>T1095: Standard Non-Application Layer Protocol</TD><TD>2</TD><TD>13</TD><TD>0</TD><TD>Host network interface<BR>Netflow/Enclave netflow<BR>Network intrusion detection system<BR>Network protocol analysis<BR>Packet capture<BR>Process use of network</TD></TR><TR><TD>T1221: Template Injection</TD><TD>2</TD><TD>0</TD><TD>0</TD><TD>Anti-virus<BR>Email gateway<BR>Network intrusion detection system<BR>Web logs</TD></TR><TR><TD>T1199: Trusted Relationship</TD><TD>2</TD><TD>0</TD><TD>0</TD><TD>Application logs<BR>Authentication logs<BR>Third-party application logs</TD></TR><TR><TD>T1084: Windows Management Instrumentation Event Subscription</TD><TD>2</TD><TD>3</TD><TD>0</TD><TD>WMI Objects</TD></TR><TR><TD>T1182: AppCert DLLs</TD><TD>1</TD><TD>1</TD><TD>0</TD><TD>Loaded DLLs<BR>Process monitoring<BR>Windows Registry</TD></TR><TR><TD>T1017: Application Deployment Software</TD><TD>1</TD><TD>0</TD><TD>0</TD><TD>File monitoring<BR>Process use of network<BR>Process monitoring</TD></TR><TR><TD>T1138: Application Shimming</TD><TD>1</TD><TD>0</TD><TD>0</TD><TD>Loaded DLLs<BR>System calls<BR>Windows Registry<BR>Process monitoring<BR>Process command-line parameters</TD></TR><TR><TD>T1010: Application Window Discovery</TD><TD>1</TD><TD>8</TD><TD>0</TD><TD>API monitoring<BR>Process monitoring<BR>Process command-line parameters</TD></TR><TR><TD>T1123: Audio Capture</TD><TD>1</TD><TD>9</TD><TD>2</TD><TD>API monitoring<BR>Process monitoring<BR>File monitoring</TD></TR><TR><TD>T1020: Automated Exfiltration</TD><TD>1</TD><TD>4</TD><TD>0</TD><TD>File monitoring<BR>Process monitoring<BR>Process use of network</TD></TR><TR><TD>T1197: BITS Jobs</TD><TD>1</TD><TD>1</TD><TD>1</TD><TD>API monitoring<BR>Packet capture<BR>Windows event logs</TD></TR><TR><TD>T1092: Communication Through Removable Media</TD><TD>1</TD><TD>2</TD><TD>0</TD><TD>File monitoring<BR>Data loss prevention</TD></TR><TR><TD>T1109: Component Firmware</TD><TD>1</TD><TD>0</TD><TD>0</TD><TD>Disk forensics<BR>API monitoring<BR>Process monitoring<BR>Component firmware</TD></TR><TR><TD>T1122: Component Object Model Hijacking</TD><TD>1</TD><TD>5</TD><TD>0</TD><TD>Windows Registry<BR>DLL monitoring<BR>Loaded DLLs</TD></TR><TR><TD>T1081: Credentials in Files</TD><TD>1</TD><TD>7</TD><TD>2</TD><TD>File monitoring<BR>Process command-line parameters</TD></TR><TR><TD>T1030: Data Transfer Size Limits</TD><TD>1</TD><TD>4</TD><TD>0</TD><TD>Packet capture<BR>Netflow/Enclave netflow<BR>Process use of network<BR>Process monitoring</TD></TR><TR><TD>T1172: Domain Fronting</TD><TD>1</TD><TD>0</TD><TD>1</TD><TD>SSL/TLS inspection<BR>Packet capture</TD></TR><TR><TD>T1190: Exploit Public-Facing Application</TD><TD>1</TD><TD>0</TD><TD>2</TD><TD>Packet capture<BR>Web logs<BR>Web application firewall logs<BR>Application logs</TD></TR><TR><TD>T1211: Exploitation for Defense Evasion</TD><TD>1</TD><TD>0</TD><TD>0</TD><TD>Windows Error Reporting<BR>Process monitoring<BR>File monitoring</TD></TR><TR><TD>T1210: Exploitation of Remote Services</TD><TD>1</TD><TD>1</TD><TD>0</TD><TD>Windows Error Reporting<BR>Process monitoring<BR>File monitoring</TD></TR><TR><TD>T1061: Graphical User Interface</TD><TD>1</TD><TD>0</TD><TD>0</TD><TD>File monitoring<BR>Process monitoring<BR>Process command-line parameters<BR>Binary file metadata</TD></TR><TR><TD>T1179: Hooking</TD><TD>1</TD><TD>1</TD><TD>0</TD><TD>API monitoring<BR>Binary file metadata<BR>DLL monitoring<BR>Loaded DLLs<BR>Process monitoring<BR>Windows event logs</TD></TR><TR><TD>T1037: Logon Scripts</TD><TD>1</TD><TD>1</TD><TD>0</TD><TD>File monitoring<BR>Process monitoring</TD></TR><TR><TD>T1104: Multi-Stage Channels</TD><TD>1</TD><TD>3</TD><TD>0</TD><TD>Netflow/Enclave netflow<BR>Network device logs<BR>Network protocol analysis<BR>Packet capture<BR>Process use of network</TD></TR><TR><TD>T1188: Multi-hop Proxy</TD><TD>1</TD><TD>3</TD><TD>1</TD><TD>Network protocol analysis<BR>Netflow/Enclave netflow</TD></TR><TR><TD>T1026: Multiband Communication</TD><TD>1</TD><TD>1</TD><TD>1</TD><TD>Packet capture<BR>Netflow/Enclave netflow<BR>Process use of network<BR>Malware reverse engineering<BR>Process monitoring</TD></TR><TR><TD>T1126: Network Share Connection Removal</TD><TD>1</TD><TD>0</TD><TD>1</TD><TD>Process monitoring<BR>Process command-line parameters<BR>Packet capture<BR>Authentication logs</TD></TR><TR><TD>T1040: Network Sniffing</TD><TD>1</TD><TD>1</TD><TD>1</TD><TD>Network device logs<BR>Host network interface<BR>Netflow/Enclave netflow<BR>Process monitoring</TD></TR><TR><TD>T1137: Office Application Startup</TD><TD>1</TD><TD>0</TD><TD>0</TD><TD>Process monitoring<BR>Process command-line parameters<BR>Windows Registry<BR>File monitoring</TD></TR><TR><TD>T1201: Password Policy Discovery</TD><TD>1</TD><TD>1</TD><TD>1</TD><TD>Process command-line parameters<BR>Process monitoring</TD></TR><TR><TD>T1014: Rootkit</TD><TD>1</TD><TD>6</TD><TD>0</TD><TD>BIOS<BR>MBR<BR>System calls</TD></TR><TR><TD>T1216: Signed Script Proxy Execution</TD><TD>1</TD><TD>0</TD><TD>0</TD><TD>Process monitoring<BR>Process command-line parameters</TD></TR><TR><TD>T1195: Supply Chain Compromise</TD><TD>1</TD><TD>2</TD><TD>0</TD><TD>Web proxy<BR>File monitoring</TD></TR><TR><TD>T1080: Taint Shared Content</TD><TD>1</TD><TD>2</TD><TD>0</TD><TD>File monitoring<BR>Process monitoring</TD></TR><TR><TD>T1072: Third-party Software</TD><TD>1</TD><TD>1</TD><TD>0</TD><TD>File monitoring<BR>Third-party application logs<BR>Windows Registry<BR>Process monitoring<BR>Process use of network<BR>Binary file metadata</TD></TR><TR><TD>T1125: Video Capture</TD><TD>1</TD><TD>7</TD><TD>2</TD><TD>Process monitoring<BR>File monitoring<BR>API monitoring</TD></TR><TR><TD>T1028: Windows Remote Management</TD><TD>1</TD><TD>0</TD><TD>1</TD><TD>File monitoring<BR>Authentication logs<BR>Netflow/Enclave netflow<BR>Process monitoring<BR>Process command-line parameters</TD></TR><TR><TD>T1004: Winlogon Helper DLL</TD><TD>1</TD><TD>2</TD><TD>0</TD><TD>Windows Registry<BR>File monitoring<BR>Process monitoring</TD></TR><TR><TD>T1220: XSL Script Processing</TD><TD>1</TD><TD>0</TD><TD>0</TD><TD>Process monitoring<BR>Process command-line parameters<BR>Process use of network<BR>DLL monitoring</TD></TR><TR><TD>T1103: AppInit DLLs</TD><TD>0</TD><TD>2</TD><TD>0</TD><TD>Loaded DLLs<BR>Process monitoring<BR>Windows Registry</TD></TR><TR><TD>T1131: Authentication Package</TD><TD>0</TD><TD>1</TD><TD>0</TD><TD>DLL monitoring<BR>Windows Registry<BR>Loaded DLLs</TD></TR><TR><TD>T1217: Browser Bookmark Discovery</TD><TD>0</TD><TD>2</TD><TD>0</TD><TD>API monitoring<BR>File monitoring<BR>Process command-line parameters<BR>Process monitoring</TD></TR><TR><TD>T1176: Browser Extensions</TD><TD>0</TD><TD>0</TD><TD>0</TD><TD>Network protocol analysis<BR>Packet capture<BR>System calls<BR>Process use of network<BR>Process monitoring<BR>Browser extensions</TD></TR><TR><TD>T1042: Change Default File Association</TD><TD>0</TD><TD>0</TD><TD>0</TD><TD>Windows Registry<BR>Process monitoring<BR>Process command-line parameters</TD></TR><TR><TD>T1115: Clipboard Data</TD><TD>0</TD><TD>9</TD><TD>1</TD><TD>API monitoring</TD></TR><TR><TD>T1196: Control Panel Items</TD><TD>0</TD><TD>1</TD><TD>0</TD><TD>API monitoring<BR>Binary file metadata<BR>DLL monitoring<BR>Windows Registry<BR>Windows event logs<BR>Process command-line parameters<BR>Process monitoring</TD></TR><TR><TD>T1214: Credentials in Registry</TD><TD>0</TD><TD>0</TD><TD>2</TD><TD>Windows Registry<BR>Process command-line parameters<BR>Process monitoring</TD></TR><TR><TD>T1207: DCShadow</TD><TD>0</TD><TD>0</TD><TD>1</TD><TD>API monitoring<BR>Authentication logs<BR>Network protocol analysis<BR>Packet capture</TD></TR><TR><TD>T1175: Distributed Component Object Model</TD><TD>0</TD><TD>1</TD><TD>1</TD><TD>API monitoring<BR>Authentication logs<BR>DLL monitoring<BR>Packet capture<BR>Process monitoring<BR>Windows Registry<BR>Windows event logs</TD></TR><TR><TD>T1129: Execution through Module Load</TD><TD>0</TD><TD>2</TD><TD>0</TD><TD>API monitoring<BR>DLL monitoring<BR>File monitoring<BR>Process monitoring</TD></TR><TR><TD>T1011: Exfiltration Over Other Network Medium</TD><TD>0</TD><TD>1</TD><TD>0</TD><TD>User interface<BR>Process monitoring</TD></TR><TR><TD>T1052: Exfiltration Over Physical Medium</TD><TD>0</TD><TD>4</TD><TD>0</TD><TD>Data loss prevention<BR>File monitoring</TD></TR><TR><TD>T1212: Exploitation for Credential Access</TD><TD>0</TD><TD>0</TD><TD>0</TD><TD>Authentication logs<BR>Windows Error Reporting<BR>Process monitoring</TD></TR><TR><TD>T1181: Extra Window Memory Injection</TD><TD>0</TD><TD>1</TD><TD>0</TD><TD>API monitoring<BR>Process monitoring</TD></TR><TR><TD>T1222: File Permissions Modification</TD><TD>0</TD><TD>1</TD><TD>0</TD><TD>File monitoring<BR>Process monitoring<BR>Process command-line parameters<BR>Windows event logs</TD></TR><TR><TD>T1006: File System Logical Offsets</TD><TD>0</TD><TD>0</TD><TD>0</TD><TD>API monitoring</TD></TR><TR><TD>T1044: File System Permissions Weakness</TD><TD>0</TD><TD>1</TD><TD>0</TD><TD>File monitoring<BR>Services<BR>Process command-line parameters</TD></TR><TR><TD>T1200: Hardware Additions</TD><TD>0</TD><TD>0</TD><TD>0</TD><TD>Asset management<BR>Data loss prevention</TD></TR><TR><TD>T1062: Hypervisor</TD><TD>0</TD><TD>0</TD><TD>0</TD><TD>System calls</TD></TR><TR><TD>T1183: Image File Execution Options Injection</TD><TD>0</TD><TD>0</TD><TD>0</TD><TD>Process monitoring<BR>Windows Registry<BR>Windows event logs</TD></TR><TR><TD>T1054: Indicator Blocking</TD><TD>0</TD><TD>0</TD><TD>0</TD><TD>Sensor health and status<BR>Process command-line parameters<BR>Process monitoring</TD></TR><TR><TD>T1202: Indirect Command Execution</TD><TD>0</TD><TD>0</TD><TD>1</TD><TD>Process monitoring<BR>Process command-line parameters<BR>Windows event logs</TD></TR><TR><TD>T1130: Install Root Certificate</TD><TD>0</TD><TD>2</TD><TD>1</TD><TD>SSL/TLS inspection<BR>Digital certificate logs</TD></TR><TR><TD>T1118: InstallUtil</TD><TD>0</TD><TD>0</TD><TD>0</TD><TD>Process monitoring<BR>Process command-line parameters</TD></TR><TR><TD>T1208: Kerberoasting</TD><TD>0</TD><TD>0</TD><TD>1</TD><TD>Windows event logs</TD></TR><TR><TD>T1171: LLMNR/NBT-NS Poisoning</TD><TD>0</TD><TD>0</TD><TD>2</TD><TD>Windows Registry<BR>Packet capture<BR>Netflow/Enclave netflow</TD></TR><TR><TD>T1177: LSASS Driver</TD><TD>0</TD><TD>2</TD><TD>0</TD><TD>API monitoring<BR>DLL monitoring<BR>File monitoring<BR>Kernel drivers<BR>Loaded DLLs<BR>Process monitoring</TD></TR><TR><TD>T1185: Man in the Browser</TD><TD>0</TD><TD>1</TD><TD>1</TD><TD>Authentication logs<BR>Packet capture<BR>Process monitoring<BR>API monitoring</TD></TR><TR><TD>T1079: Multilayer Encryption</TD><TD>0</TD><TD>2</TD><TD>2</TD><TD>Packet capture<BR>Process use of network<BR>Malware reverse engineering<BR>Process monitoring</TD></TR><TR><TD>T1096: NTFS File Attributes</TD><TD>0</TD><TD>5</TD><TD>0</TD><TD>File monitoring<BR>Kernel drivers<BR>API monitoring<BR>Process command-line parameters</TD></TR><TR><TD>T1128: Netsh Helper DLL</TD><TD>0</TD><TD>0</TD><TD>1</TD><TD>DLL monitoring<BR>Windows Registry<BR>Process monitoring</TD></TR><TR><TD>T1174: Password Filter DLL</TD><TD>0</TD><TD>1</TD><TD>0</TD><TD>DLL monitoring<BR>Process monitoring<BR>Windows Registry</TD></TR><TR><TD>T1034: Path Interception</TD><TD>0</TD><TD>0</TD><TD>1</TD><TD>File monitoring<BR>Process monitoring</TD></TR><TR><TD>T1013: Port Monitors</TD><TD>0</TD><TD>0</TD><TD>0</TD><TD>File monitoring<BR>API monitoring<BR>DLL monitoring<BR>Windows Registry<BR>Process monitoring</TD></TR><TR><TD>T1145: Private Keys</TD><TD>0</TD><TD>0</TD><TD>1</TD><TD>File monitoring</TD></TR><TR><TD>T1186: Process Doppelgänging</TD><TD>0</TD><TD>1</TD><TD>0</TD><TD>API monitoring<BR>Process monitoring</TD></TR><TR><TD>T1121: Regsvcs/Regasm</TD><TD>0</TD><TD>0</TD><TD>0</TD><TD>Process monitoring<BR>Process command-line parameters</TD></TR><TR><TD>T1178: SID-History Injection</TD><TD>0</TD><TD>0</TD><TD>1</TD><TD>API monitoring<BR>Authentication logs<BR>Windows event logs</TD></TR><TR><TD>T1198: SIP and Trust Provider Hijacking</TD><TD>0</TD><TD>0</TD><TD>0</TD><TD>API monitoring<BR>Application logs<BR>DLL monitoring<BR>Loaded DLLs<BR>Process monitoring<BR>Windows Registry<BR>Windows event logs</TD></TR><TR><TD>T1029: Scheduled Transfer</TD><TD>0</TD><TD>5</TD><TD>1</TD><TD>Netflow/Enclave netflow<BR>Process use of network<BR>Process monitoring</TD></TR><TR><TD>T1180: Screensaver</TD><TD>0</TD><TD>1</TD><TD>0</TD><TD>Process monitoring<BR>Process command-line parameters<BR>Windows Registry<BR>File monitoring</TD></TR><TR><TD>T1101: Security Support Provider</TD><TD>0</TD><TD>0</TD><TD>2</TD><TD>DLL monitoring<BR>Windows Registry<BR>Loaded DLLs</TD></TR><TR><TD>T1058: Service Registry Permissions Weakness</TD><TD>0</TD><TD>0</TD><TD>0</TD><TD>Process command-line parameters<BR>Services<BR>Windows Registry</TD></TR><TR><TD>T1051: Shared Webroot</TD><TD>0</TD><TD>0</TD><TD>0</TD><TD>File monitoring<BR>Process monitoring</TD></TR><TR><TD>T1218: Signed Binary Proxy Execution</TD><TD>0</TD><TD>0</TD><TD>0</TD><TD>Process monitoring<BR>Process command-line parameters</TD></TR><TR><TD>T1019: System Firmware</TD><TD>0</TD><TD>2</TD><TD>0</TD><TD>API monitoring<BR>BIOS<BR>EFI</TD></TR><TR><TD>T1209: Time Providers</TD><TD>0</TD><TD>0</TD><TD>0</TD><TD>API monitoring<BR>Binary file metadata<BR>DLL monitoring<BR>File monitoring<BR>Loaded DLLs<BR>Process monitoring</TD></TR><TR><TD>T1127: Trusted Developer Utilities</TD><TD>0</TD><TD>1</TD><TD>0</TD><TD>Process monitoring</TD></TR><TR><TD>T1111: Two-Factor Authentication Interception</TD><TD>0</TD><TD>1</TD><TD>0</TD><TD>API monitoring<BR>Process monitoring<BR>Kernel drivers</TD></TR></TABLE>"
      ],
      "text/plain": [
       "<IPython.core.display.HTML object>"
      ]
     },
     "metadata": {},
     "output_type": "display_data"
    }
   ],
   "source": [
    "res = dict()\n",
    "\n",
    "for o in m[\"objects\"]:\n",
    "    if o[\"type\"] == \"attack-pattern\" and len(list(filter(lambda x: x == platform, o[\"x_mitre_platforms\"]))) > 0:\n",
    "        \n",
    "        mitre_t = list(filter(lambda x: x[\"source_name\"] == \"mitre-attack\", o[\"external_references\"]))[0][\"external_id\"]\n",
    "        k = mitre_t + \": \" + o[\"name\"]             \n",
    "        res[k] = dict()\n",
    "        res[k][\"x_mitre_data_sources\"] = list()\n",
    "        res[k][\"x_mitre_data_sources\"] = o.get(\"x_mitre_data_sources\",[])\n",
    "          \n",
    "        for c in [\"intrusion-set\",\"malware\",\"tool\"]: #APT, #malware, #tools\n",
    "            res[k][c] = 0\n",
    "        \n",
    "        for o2 in m[\"objects\"]: \n",
    "            if o2[\"type\"] == \"relationship\" \\\n",
    "            and o2[\"relationship_type\"] == \"uses\" \\\n",
    "            and o2[\"target_ref\"] == o[\"id\"]:\n",
    "                k2 = o2[\"source_ref\"][0:o2[\"source_ref\"].find(\"--\")]\n",
    "                if k2 in [\"intrusion-set\",\"malware\",\"tool\"]: \n",
    "                    res[k][k2] = res[k].get(k2,0) + 1\n",
    "\n",
    "\n",
    "data = list()\n",
    "for kk, aa, mm, tt, ds in sorted ( ( (k, res[k][\"intrusion-set\"], res[k][\"malware\"], res[k][\"tool\"],res[k][\"x_mitre_data_sources\"]) for k in res.keys()), \\\n",
    "                          key = itemgetter(1), reverse = True ) :\n",
    "    data.append([kk, aa, mm, tt, \"<BR>\".join(ds)])\n",
    "\n",
    "display(HTML(HTMLx.html_table([\"techique\", \"intrusion-set\",\"malware\",\"tool\",\"data_sources\"],data)))"
   ]
  },
  {
   "cell_type": "markdown",
   "metadata": {},
   "source": [
    "## Telemetry required for Techniques"
   ]
  },
  {
   "cell_type": "code",
   "execution_count": 9,
   "metadata": {},
   "outputs": [
    {
     "data": {
      "text/html": [
       "<TABLE BORDER=\"1\"><TR><TH ALIGN=\"CENTER\">data_sources</TH ALIGN=\"CENTER\"><TH>attack-pattern</TH></TR></TR><TR><TD>Process monitoring</TD><TD>136</TD></TR><TR><TD>Process command-line parameters</TD><TD>76</TD></TR><TR><TD>File monitoring</TD><TD>68</TD></TR><TR><TD>API monitoring</TD><TD>39</TD></TR><TR><TD>Process use of network</TD><TD>36</TD></TR><TR><TD>Windows Registry</TD><TD>34</TD></TR><TR><TD>Packet capture</TD><TD>32</TD></TR><TR><TD>Authentication logs</TD><TD>24</TD></TR><TR><TD>Netflow/Enclave netflow</TD><TD>24</TD></TR><TR><TD>Windows event logs</TD><TD>19</TD></TR><TR><TD>Network protocol analysis</TD><TD>18</TD></TR><TR><TD>DLL monitoring</TD><TD>17</TD></TR><TR><TD>Binary file metadata</TD><TD>16</TD></TR><TR><TD>Loaded DLLs</TD><TD>12</TD></TR><TR><TD>Malware reverse engineering</TD><TD>8</TD></TR><TR><TD>SSL/TLS inspection</TD><TD>8</TD></TR><TR><TD>Network intrusion detection system</TD><TD>7</TD></TR><TR><TD>Anti-virus</TD><TD>7</TD></TR><TR><TD>System calls</TD><TD>6</TD></TR><TR><TD>Data loss prevention</TD><TD>6</TD></TR><TR><TD>Application logs</TD><TD>5</TD></TR><TR><TD>Host network interface</TD><TD>4</TD></TR><TR><TD>Network device logs</TD><TD>4</TD></TR><TR><TD>Web proxy</TD><TD>4</TD></TR><TR><TD>Windows Error Reporting</TD><TD>4</TD></TR><TR><TD>Kernel drivers</TD><TD>4</TD></TR><TR><TD>Email gateway</TD><TD>4</TD></TR><TR><TD>Third-party application logs</TD><TD>3</TD></TR><TR><TD>Services</TD><TD>3</TD></TR><TR><TD>User interface</TD><TD>3</TD></TR><TR><TD>MBR</TD><TD>2</TD></TR><TR><TD>Web logs</TD><TD>2</TD></TR><TR><TD>BIOS</TD><TD>2</TD></TR><TR><TD>Detonation chamber</TD><TD>2</TD></TR><TR><TD>Mail server</TD><TD>2</TD></TR><TR><TD>Access tokens</TD><TD>1</TD></TR><TR><TD>VBR</TD><TD>1</TD></TR><TR><TD>Browser extensions</TD><TD>1</TD></TR><TR><TD>Disk forensics</TD><TD>1</TD></TR><TR><TD>Component firmware</TD><TD>1</TD></TR><TR><TD>PowerShell logs</TD><TD>1</TD></TR><TR><TD>Web application firewall logs</TD><TD>1</TD></TR><TR><TD>Asset management</TD><TD>1</TD></TR><TR><TD>Sensor health and status</TD><TD>1</TD></TR><TR><TD>Digital certificate logs</TD><TD>1</TD></TR><TR><TD>Environment variable</TD><TD>1</TD></TR><TR><TD>Named Pipes</TD><TD>1</TD></TR><TR><TD>DNS records</TD><TD>1</TD></TR><TR><TD>EFI</TD><TD>1</TD></TR><TR><TD>WMI Objects</TD><TD>1</TD></TR></TABLE>"
      ],
      "text/plain": [
       "<IPython.core.display.HTML object>"
      ]
     },
     "metadata": {},
     "output_type": "display_data"
    }
   ],
   "source": [
    "res = dict()\n",
    "no_data_sources = list()\n",
    "for o in m[\"objects\"]:\n",
    "    t = o[\"type\"]\n",
    "    if t == \"attack-pattern\" and len(list(filter(lambda x: x == platform, o[\"x_mitre_platforms\"]))) > 0:\n",
    "        if o.get(\"x_mitre_data_sources\") is None:\n",
    "            no_data_sources.append(o[\"name\"])\n",
    "        else:\n",
    "            for s in o[\"x_mitre_data_sources\"]:\n",
    "                res[s] = res.get(s,0) + 1\n",
    "\n",
    "display(HTML(\n",
    "    HTMLx.html_table([\"data_sources\", \"attack-pattern\"],\\\n",
    "                     list([key,value] for key, value in sorted(res.items(), key = itemgetter(1), reverse = True)))\n",
    "))"
   ]
  },
  {
   "cell_type": "markdown",
   "metadata": {},
   "source": [
    "## Windows techniques without required telemetry specified"
   ]
  },
  {
   "cell_type": "code",
   "execution_count": 10,
   "metadata": {},
   "outputs": [
    {
     "name": "stdout",
     "output_type": "stream",
     "text": [
      "Peripheral Device Discovery\n"
     ]
    }
   ],
   "source": [
    "for i in no_data_sources:\n",
    "    print(i)"
   ]
  },
  {
   "cell_type": "code",
   "execution_count": null,
   "metadata": {},
   "outputs": [],
   "source": []
  }
 ],
 "metadata": {
  "kernelspec": {
   "display_name": "Python 3",
   "language": "python",
   "name": "python3"
  },
  "language_info": {
   "codemirror_mode": {
    "name": "ipython",
    "version": 3
   },
   "file_extension": ".py",
   "mimetype": "text/x-python",
   "name": "python",
   "nbconvert_exporter": "python",
   "pygments_lexer": "ipython3",
   "version": "3.7.1"
  }
 },
 "nbformat": 4,
 "nbformat_minor": 2
}
